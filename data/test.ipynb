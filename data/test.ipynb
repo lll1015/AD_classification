{
 "cells": [
  {
   "cell_type": "code",
   "execution_count": 1,
   "metadata": {},
   "outputs": [
    {
     "ename": "ModuleNotFoundError",
     "evalue": "No module named 'sklearn'",
     "output_type": "error",
     "traceback": [
      "\u001b[1;31m---------------------------------------------------------------------------\u001b[0m",
      "\u001b[1;31mModuleNotFoundError\u001b[0m                       Traceback (most recent call last)",
      "\u001b[1;32m<ipython-input-1-5df94dd40fce>\u001b[0m in \u001b[0;36m<module>\u001b[1;34m()\u001b[0m\n\u001b[0;32m      4\u001b[0m \u001b[1;32mimport\u001b[0m \u001b[0mtorch\u001b[0m\u001b[1;33m\u001b[0m\u001b[1;33m\u001b[0m\u001b[0m\n\u001b[0;32m      5\u001b[0m \u001b[1;32mfrom\u001b[0m \u001b[0mtorch\u001b[0m\u001b[1;33m.\u001b[0m\u001b[0mutils\u001b[0m\u001b[1;33m.\u001b[0m\u001b[0mdata\u001b[0m \u001b[1;32mimport\u001b[0m \u001b[0mDataset\u001b[0m\u001b[1;33m,\u001b[0m \u001b[0mDataLoader\u001b[0m\u001b[1;33m\u001b[0m\u001b[1;33m\u001b[0m\u001b[0m\n\u001b[1;32m----> 6\u001b[1;33m \u001b[1;32mfrom\u001b[0m \u001b[0msklearn\u001b[0m\u001b[1;33m.\u001b[0m\u001b[0mmodel_selection\u001b[0m \u001b[1;32mimport\u001b[0m \u001b[0mtrain_test_split\u001b[0m\u001b[1;33m\u001b[0m\u001b[1;33m\u001b[0m\u001b[0m\n\u001b[0m\u001b[0;32m      7\u001b[0m \u001b[1;33m\u001b[0m\u001b[0m\n\u001b[0;32m      8\u001b[0m \u001b[1;32mclass\u001b[0m \u001b[0mSubjectDataset\u001b[0m\u001b[1;33m(\u001b[0m\u001b[0mDataset\u001b[0m\u001b[1;33m)\u001b[0m\u001b[1;33m:\u001b[0m\u001b[1;33m\u001b[0m\u001b[1;33m\u001b[0m\u001b[0m\n",
      "\u001b[1;31mModuleNotFoundError\u001b[0m: No module named 'sklearn'"
     ]
    }
   ],
   "source": [
    "# data_loader.py\n",
    "\n",
    "import pandas as pd\n",
    "import torch\n",
    "from torch.utils.data import Dataset, DataLoader\n",
    "from sklearn.model_selection import train_test_split\n",
    "\n",
    "class SubjectDataset(Dataset):\n",
    "    def __init__(self, high_dim_features, low_dim_features, labels):\n",
    "        # 由于我们将在模型中处理低维特征的嵌入，所以我们在这里不需要转换为Tensor\n",
    "        self.high_dim_features = high_dim_features\n",
    "        self.low_dim_features = low_dim_features\n",
    "        self.labels = labels\n",
    "\n",
    "    def __len__(self):\n",
    "        return len(self.labels)\n",
    "\n",
    "    def __getitem__(self, idx):\n",
    "        high_dim_sample = torch.tensor(self.high_dim_features.iloc[idx].values, dtype=torch.float)\n",
    "        low_dim_sample = self.low_dim_features.iloc[idx].values  # 作为NumPy数组保持\n",
    "        label = torch.tensor(self.labels[idx], dtype=torch.long)\n",
    "        return high_dim_sample, low_dim_sample, label\n",
    "\n",
    "def load_and_align_data(high_dim_path, low_dim_path, labels_path, test_size=0.2, random_state=42):\n",
    "    # 加载数据\n",
    "    high_dim_df = pd.read_csv(high_dim_path)\n",
    "    low_dim_df = pd.read_csv(low_dim_path)\n",
    "    labels_df = pd.read_csv(labels_path)\n",
    "\n",
    "    # 假设第一列是subject_id，对齐数据\n",
    "    merged_df = high_dim_df.merge(low_dim_df, on='PTID',how = 'inner').merge(labels_df, on='PTID',how = 'inner')\n",
    "\n",
    "    # 假设'high_dim_data'和'low_dim_data'分别是包含在您的CSV文件列名中的高维和低维数据标识\n",
    "    high_dim_cols = [col for col in merged_df.columns if 'high_' in col]\n",
    "    low_dim_cols = [col for col in merged_df.columns if 'low_' in col]\n",
    "\n",
    "    # 标签列单独提取\n",
    "    labels = merged_df['label_DX'].values\n",
    "\n",
    "    # 分离出高维和低维特征\n",
    "    high_dim_features = merged_df[high_dim_cols]\n",
    "    low_dim_features = merged_df[low_dim_cols]\n",
    "\n",
    "    # 按照subject_id划分训练集和测试集\n",
    "    train_high, test_high, train_low, test_low, train_labels, test_labels = train_test_split(\n",
    "        high_dim_features, low_dim_features, labels, test_size=test_size, \n",
    "        random_state=random_state, stratify=labels\n",
    "    )\n",
    "\n",
    "    # 创建数据集实例\n",
    "    train_dataset = SubjectDataset(train_high, train_low, train_labels)\n",
    "    test_dataset = SubjectDataset(test_high, test_low, test_labels)\n",
    "\n",
    "    return train_dataset, test_dataset\n",
    "\n",
    "def create_data_loader(dataset, batch_size=32, shuffle=True):\n",
    "    loader = DataLoader(dataset, batch_size=batch_size, shuffle=shuffle)\n",
    "    return loader"
   ]
  },
  {
   "cell_type": "code",
   "execution_count": 12,
   "metadata": {},
   "outputs": [],
   "source": [
    "!pip install \"sklearn\" -i https://pypi.tuna.tsinghua.edu.cn/simple"
   ]
  }
 ],
 "metadata": {
  "kernelspec": {
   "display_name": "base",
   "language": "python",
   "name": "python3"
  },
  "language_info": {
   "codemirror_mode": {
    "name": "ipython",
    "version": 3
   },
   "file_extension": ".py",
   "mimetype": "text/x-python",
   "name": "python",
   "nbconvert_exporter": "python",
   "pygments_lexer": "ipython3",
   "version": "3.6.10"
  }
 },
 "nbformat": 4,
 "nbformat_minor": 2
}
